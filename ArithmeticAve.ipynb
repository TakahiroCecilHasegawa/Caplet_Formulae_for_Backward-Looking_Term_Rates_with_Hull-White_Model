{
 "cells": [
  {
   "cell_type": "code",
   "execution_count": 1,
   "metadata": {},
   "outputs": [],
   "source": [
    "import math"
   ]
  },
  {
   "cell_type": "code",
   "execution_count": 2,
   "metadata": {},
   "outputs": [],
   "source": [
    "import matplotlib.pyplot as plt\n",
    "import numpy as np"
   ]
  },
  {
   "cell_type": "code",
   "execution_count": 3,
   "metadata": {},
   "outputs": [],
   "source": [
    "import pandas as pd"
   ]
  },
  {
   "cell_type": "code",
   "execution_count": 4,
   "metadata": {},
   "outputs": [],
   "source": [
    "from scipy.stats import norm"
   ]
  },
  {
   "cell_type": "code",
   "execution_count": 5,
   "metadata": {},
   "outputs": [],
   "source": [
    "import datetime"
   ]
  },
  {
   "cell_type": "code",
   "execution_count": 6,
   "metadata": {},
   "outputs": [],
   "source": [
    "# System parameters\n",
    "ACT365FIX = 365.0\n",
    "zero      = 0.05"
   ]
  },
  {
   "cell_type": "code",
   "execution_count": 7,
   "metadata": {},
   "outputs": [],
   "source": [
    "# Hull-White parameters\n",
    "# Global\n",
    "a     = 0.1\n",
    "sigma = 0.005"
   ]
  },
  {
   "cell_type": "code",
   "execution_count": 8,
   "metadata": {},
   "outputs": [],
   "source": [
    "# Evaluation parameters\n",
    "today                  = '2021/04/01'\n",
    "application_start_date = '2021/06/01'\n",
    "application_end_date   = '2021/09/01'"
   ]
  },
  {
   "cell_type": "code",
   "execution_count": 9,
   "metadata": {},
   "outputs": [],
   "source": [
    "def DF(t,T):\n",
    "    _t = date_to_serial(t)\n",
    "    _T = date_to_serial(T)\n",
    "    _tau = (_T-_t)/ACT365FIX\n",
    "    \n",
    "    return math.exp(-zero*_tau)"
   ]
  },
  {
   "cell_type": "code",
   "execution_count": 10,
   "metadata": {},
   "outputs": [],
   "source": [
    "def FWD(s,t,T):\n",
    "    _t = date_to_serial(t)\n",
    "    _T = date_to_serial(T)\n",
    "    _tau = (_T - _t) / ACT365FIX\n",
    "    _fwd = (DF(s,t)/DF(s,T)-1.0)/_tau\n",
    "    \n",
    "    return _fwd"
   ]
  },
  {
   "cell_type": "code",
   "execution_count": 11,
   "metadata": {},
   "outputs": [],
   "source": [
    "def date_to_serial(date):\n",
    "    # date is expected as string, 'YYYY/MM/DD'\n",
    "    dt = datetime.datetime.strptime(date, '%Y/%m/%d')- datetime.datetime(1899, 12, 31)\n",
    "    serial = dt.days + 1\n",
    "    return serial"
   ]
  },
  {
   "cell_type": "code",
   "execution_count": 12,
   "metadata": {},
   "outputs": [],
   "source": [
    "def B(s,t):\n",
    "    s = date_to_serial(s)\n",
    "    t = date_to_serial(t)\n",
    "    ret = (1-math.exp(-a*(t-s)))/a\n",
    "    return ret"
   ]
  },
  {
   "cell_type": "code",
   "execution_count": 13,
   "metadata": {},
   "outputs": [],
   "source": [
    "def M(s,t,T):\n",
    "    s = date_to_serial(s)\n",
    "    t = date_to_serial(t)\n",
    "    T = date_to_serial(T)\n",
    "    tmp = (sigma**2)/(a**2)*(1-math.exp(-a*(t-s)))\\\n",
    "        -0.5*(sigma**2)/(a**2)*(math.exp(-a*(T-t))-math.exp(-a*(T-s+t-s)))\n",
    "    return tmp"
   ]
  },
  {
   "cell_type": "code",
   "execution_count": 14,
   "metadata": {},
   "outputs": [],
   "source": [
    "def V(s,t):\n",
    "    s = date_to_serial(s)\n",
    "    t = date_to_serial(t)\n",
    "    tmp = 0.5*((sigma**2)/(a**3))*(2*a*(t-s)-3+4*math.exp(-a*(t-s))-math.exp(-2*a*(t-s)))\n",
    "    return tmp"
   ]
  },
  {
   "cell_type": "code",
   "execution_count": 15,
   "metadata": {},
   "outputs": [],
   "source": [
    "def ND_F(x):\n",
    "    return norm.cdf(x, loc=0, scale=1)"
   ]
  },
  {
   "cell_type": "code",
   "execution_count": 16,
   "metadata": {},
   "outputs": [],
   "source": [
    "def PD_F(x):\n",
    "    return norm.pdf(x, loc=0, scale=1)"
   ]
  },
  {
   "cell_type": "code",
   "execution_count": 17,
   "metadata": {},
   "outputs": [],
   "source": [
    "def caplet_arithmetic_average(today, rate, strike, application_start_date, application_end_date):\n",
    "    today                  = date_to_serial(today)\n",
    "    application_start_date = date_to_serial(application_start_date)\n",
    "    application_end_date   = date_to_serial(application_end_date)\n",
    "    \n",
    "    tau = (application_end_date - application_start_date) / ACT365FIX\n",
    "    d   = (tau*rate-tau*strike)/(sigma*math.sqrt(_T(today, application_start_date, application_end_date)))\n",
    "    \n",
    "    return ((tau*rate-tau*strike)*ND_F(d)+sigma*math.sqrt(_T(today, application_start_date, application_end_date))*PD_F(d))"
   ]
  },
  {
   "cell_type": "code",
   "execution_count": 18,
   "metadata": {},
   "outputs": [],
   "source": [
    "def _T(today, application_start_date, application_end_date):\n",
    "    int_term = application_end_date-application_start_date\n",
    "    pre_term = application_start_date-today\n",
    "    \n",
    "    tmp = 1/(2*a)*(((1-math.exp(-a*int_term))/a)**2) * (1-math.exp(-2*a*pre_term)) \\\n",
    "        + 1/(a**2)*(int_term+2/a*math.exp(-a*int_term)-1/(2*a)*math.exp(-2*a*int_term)-3/(2*a))\n",
    "    return tmp"
   ]
  },
  {
   "cell_type": "code",
   "execution_count": 19,
   "metadata": {},
   "outputs": [],
   "source": [
    "tau = (date_to_serial(application_end_date) - date_to_serial(application_start_date)) / ACT365FIX\n",
    "Underlying = (-B(application_start_date, application_end_date) * M(today, application_start_date, application_end_date) \\\n",
    "   -  V(application_start_date, application_end_date) + math.log(DF(today, application_start_date)/DF(today, application_end_date))\\\n",
    "   + 0.5*(V(today, application_end_date)-V(today, application_start_date)))/tau"
   ]
  },
  {
   "cell_type": "code",
   "execution_count": 20,
   "metadata": {},
   "outputs": [
    {
     "name": "stdout",
     "output_type": "stream",
     "text": [
      "Underlying =  -0.35666249477024936\n"
     ]
    }
   ],
   "source": [
    "print('Underlying = ',str(Underlying))"
   ]
  },
  {
   "cell_type": "code",
   "execution_count": 21,
   "metadata": {},
   "outputs": [],
   "source": [
    "strike_factor = 0.5\n",
    "strike = Underlying*strike_factor"
   ]
  },
  {
   "cell_type": "code",
   "execution_count": 22,
   "metadata": {},
   "outputs": [
    {
     "data": {
      "text/plain": [
       "-0.17833124738512468"
      ]
     },
     "execution_count": 22,
     "metadata": {},
     "output_type": "execute_result"
    }
   ],
   "source": [
    "strike"
   ]
  },
  {
   "cell_type": "code",
   "execution_count": 23,
   "metadata": {},
   "outputs": [
    {
     "data": {
      "text/plain": [
       "0.15904464512061126"
      ]
     },
     "execution_count": 23,
     "metadata": {},
     "output_type": "execute_result"
    }
   ],
   "source": [
    "caplet_arithmetic_average(today, Underlying, strike, application_start_date, application_end_date)"
   ]
  },
  {
   "cell_type": "code",
   "execution_count": 24,
   "metadata": {},
   "outputs": [],
   "source": [
    "mu = -B(application_start_date, application_end_date) * M(today, application_start_date, application_end_date) \\\n",
    "   -  V(application_start_date, application_end_date) + math.log(DF(today, application_start_date)/DF(today, application_end_date))\\\n",
    "   + 0.5*(V(today, application_end_date)-V(today, application_start_date)) "
   ]
  },
  {
   "cell_type": "code",
   "execution_count": 25,
   "metadata": {},
   "outputs": [],
   "source": [
    "variance = (B(application_start_date, application_end_date)**2)*(sigma**2)/(2*a)*(1-math.exp(-2*a*(date_to_serial(application_start_date)-date_to_serial(today))))+\\\n",
    "         + (sigma**2)/(a**2)*(date_to_serial(application_end_date) - date_to_serial(application_start_date) + (2/a)*math.exp(-a*(date_to_serial(application_end_date) - date_to_serial(application_start_date)))-1/(2*a)*math.exp(-2*a*(date_to_serial(application_end_date) - date_to_serial(application_start_date)))-3/(2*a))"
   ]
  },
  {
   "cell_type": "code",
   "execution_count": 26,
   "metadata": {},
   "outputs": [
    {
     "data": {
      "image/png": "[encoded data removed]",
      "text/plain": [
       "<Figure size 432x288 with 1 Axes>"
      ]
     },
     "metadata": {
      "needs_background": "light"
     },
     "output_type": "display_data"
    }
   ],
   "source": [
    "rv = np.random.normal(mu, math.sqrt(variance), 100000000)\n",
    "count, bins, ignored = plt.hist(rv, 1000, density=True, align='mid')\n",
    "#np.savetxt('aa_out.csv',rv,delimiter=',')\n",
    "plt.show()"
   ]
  },
  {
   "cell_type": "code",
   "execution_count": 27,
   "metadata": {},
   "outputs": [],
   "source": [
    "tau = (date_to_serial(application_end_date) - date_to_serial(application_start_date))/ACT365FIX\n",
    "adj_strike = tau*strike"
   ]
  },
  {
   "cell_type": "code",
   "execution_count": 28,
   "metadata": {},
   "outputs": [],
   "source": [
    "aylst = rv"
   ]
  },
  {
   "cell_type": "code",
   "execution_count": 29,
   "metadata": {},
   "outputs": [],
   "source": [
    "payoff = aylst - adj_strike"
   ]
  },
  {
   "cell_type": "code",
   "execution_count": 30,
   "metadata": {},
   "outputs": [],
   "source": [
    "payoff[payoff < 0] = 0"
   ]
  },
  {
   "cell_type": "code",
   "execution_count": 31,
   "metadata": {},
   "outputs": [],
   "source": [
    "calplet_detail = pd.DataFrame(np.array([aylst, aylst - adj_strike, payoff]).T, columns=['original_value','original_value - adjstrike','payoff'])"
   ]
  },
  {
   "cell_type": "code",
   "execution_count": 32,
   "metadata": {},
   "outputs": [
    {
     "data": {
      "text/plain": [
       "0.15904493697153374"
      ]
     },
     "execution_count": 32,
     "metadata": {},
     "output_type": "execute_result"
    }
   ],
   "source": [
    "calplet_detail['payoff'].mean()"
   ]
  },
  {
   "cell_type": "code",
   "execution_count": 33,
   "metadata": {},
   "outputs": [
    {
     "data": {
      "text/html": [
       "<div>\n",
       "<style scoped>\n",
       "    .dataframe tbody tr th:only-of-type {\n",
       "        vertical-align: middle;\n",
       "    }\n",
       "\n",
       "    .dataframe tbody tr th {\n",
       "        vertical-align: top;\n",
       "    }\n",
       "\n",
       "    .dataframe thead th {\n",
       "        text-align: right;\n",
       "    }\n",
       "</style>\n",
       "<table border=\"1\" class=\"dataframe\">\n",
       "  <thead>\n",
       "    <tr style=\"text-align: right;\">\n",
       "      <th></th>\n",
       "      <th>original_value</th>\n",
       "      <th>original_value - adjstrike</th>\n",
       "      <th>payoff</th>\n",
       "    </tr>\n",
       "  </thead>\n",
       "  <tbody>\n",
       "    <tr>\n",
       "      <th>0</th>\n",
       "      <td>0.602762</td>\n",
       "      <td>0.647711</td>\n",
       "      <td>0.647711</td>\n",
       "    </tr>\n",
       "    <tr>\n",
       "      <th>1</th>\n",
       "      <td>0.169707</td>\n",
       "      <td>0.214657</td>\n",
       "      <td>0.214657</td>\n",
       "    </tr>\n",
       "    <tr>\n",
       "      <th>2</th>\n",
       "      <td>-0.420628</td>\n",
       "      <td>-0.375679</td>\n",
       "      <td>0.000000</td>\n",
       "    </tr>\n",
       "    <tr>\n",
       "      <th>3</th>\n",
       "      <td>0.217684</td>\n",
       "      <td>0.262633</td>\n",
       "      <td>0.262633</td>\n",
       "    </tr>\n",
       "    <tr>\n",
       "      <th>4</th>\n",
       "      <td>-0.300491</td>\n",
       "      <td>-0.255542</td>\n",
       "      <td>0.000000</td>\n",
       "    </tr>\n",
       "    <tr>\n",
       "      <th>...</th>\n",
       "      <td>...</td>\n",
       "      <td>...</td>\n",
       "      <td>...</td>\n",
       "    </tr>\n",
       "    <tr>\n",
       "      <th>99999995</th>\n",
       "      <td>-0.251200</td>\n",
       "      <td>-0.206251</td>\n",
       "      <td>0.000000</td>\n",
       "    </tr>\n",
       "    <tr>\n",
       "      <th>99999996</th>\n",
       "      <td>-0.281075</td>\n",
       "      <td>-0.236126</td>\n",
       "      <td>0.000000</td>\n",
       "    </tr>\n",
       "    <tr>\n",
       "      <th>99999997</th>\n",
       "      <td>0.022541</td>\n",
       "      <td>0.067490</td>\n",
       "      <td>0.067490</td>\n",
       "    </tr>\n",
       "    <tr>\n",
       "      <th>99999998</th>\n",
       "      <td>-0.142066</td>\n",
       "      <td>-0.097117</td>\n",
       "      <td>0.000000</td>\n",
       "    </tr>\n",
       "    <tr>\n",
       "      <th>99999999</th>\n",
       "      <td>-0.080117</td>\n",
       "      <td>-0.035168</td>\n",
       "      <td>0.000000</td>\n",
       "    </tr>\n",
       "  </tbody>\n",
       "</table>\n",
       "<p>100000000 rows × 3 columns</p>\n",
       "</div>"
      ],
      "text/plain": [
       "          original_value  original_value - adjstrike    payoff\n",
       "0               0.602762                    0.647711  0.647711\n",
       "1               0.169707                    0.214657  0.214657\n",
       "2              -0.420628                   -0.375679  0.000000\n",
       "3               0.217684                    0.262633  0.262633\n",
       "4              -0.300491                   -0.255542  0.000000\n",
       "...                  ...                         ...       ...\n",
       "99999995       -0.251200                   -0.206251  0.000000\n",
       "99999996       -0.281075                   -0.236126  0.000000\n",
       "99999997        0.022541                    0.067490  0.067490\n",
       "99999998       -0.142066                   -0.097117  0.000000\n",
       "99999999       -0.080117                   -0.035168  0.000000\n",
       "\n",
       "[100000000 rows x 3 columns]"
      ]
     },
     "execution_count": 33,
     "metadata": {},
     "output_type": "execute_result"
    }
   ],
   "source": [
    "calplet_detail"
   ]
  }
 ],
 "metadata": {
  "kernelspec": {
   "display_name": "Python 3",
   "language": "python",
   "name": "python3"
  },
  "language_info": {
   "codemirror_mode": {
    "name": "ipython",
    "version": 3
   },
   "file_extension": ".py",
   "mimetype": "text/x-python",
   "name": "python",
   "nbconvert_exporter": "python",
   "pygments_lexer": "ipython3",
   "version": "3.8.5"
  }
 },
 "nbformat": 4,
 "nbformat_minor": 4
}
